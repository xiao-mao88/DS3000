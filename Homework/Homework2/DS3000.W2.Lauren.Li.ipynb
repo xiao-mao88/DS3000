{
 "cells": [
  {
   "cell_type": "markdown",
   "metadata": {},
   "source": [
    "# DS 3000 - Assignment 4\n",
    "\n",
    "**Student Name**: Lauren Li\n",
    "\n",
    "**Date**: 05/13/2025\n",
    "\n",
    "\n",
    "### Submission Instructions\n",
    "Submit this `ipynb` file to canvas.\n",
    "\n",
    "The `ipynb` format stores outputs from the last time you ran the notebook.  (When you open a notebook it has the figures and outputs of the last time you ran it too).  To ensure that your submitted `ipynb` file represents your latest code, make sure to give a fresh run `Kernel > Restart & Run All` just before uploading the `ipynb` file to Canvas.\n",
    "\n",
    "### Academic Integrity\n",
    "\n",
    "**Writing your homework is an individual effort.**  You may discuss general python problems with other students but under no circumstances should you observe another student's code which was written for this assignment, from this year or past years.  Pop into office hours or DM us in MS Teams if you have a specific question about your work or if you would like another pair of eyes or talk through your code.\n",
    "\n",
    "Don't forget to cite websites which helped you solve a problem in a unique way.  You can do this in markdown near the code or with a simple one-line comment. You do not need to cite the official python documentation.\n",
    "\n",
    "**Documentation / style counts for credit**  Please refer to the Pep-8 style, to improve the readability and consistency of your Python code. For more information, read the following article [How to Write Beautiful Python Code With PEP 8](https://realpython.com/python-pep8/) or ask your TA's for tips.\n",
    "\n",
    "**NOTE:<span style='color:red'> Write python expressions to answer ALL questions below and ensure that you use the `print()` function to display the output.</span>** Each question should be answered in a new code cell. For example, your solution for question 1.1 should be in a different code cell from your solution for question 1.2."
   ]
  },
  {
   "cell_type": "code",
   "execution_count": null,
   "metadata": {},
   "outputs": [],
   "source": []
  },
  {
   "cell_type": "markdown",
   "metadata": {},
   "source": [
    "## Data Science Problem (50 pts)\n",
    "### Instructions\n",
    "\n",
    "You are hired as a Data Scientist for the NYC Taxi and Limousine Commission (TLC) and this company routinely collects trip data from all licensed cabs in NY. Your team would like to use this data in the future to understand how New Yorkers use these taxis. Your first assignment is to **analyze the data of the Green Taxis, and determine if its a viable source.**\n",
    "\n",
    "Your supervisor has requested that you perform your analysis using data from February 2023 and would like for you to present your findings during the next team meeting. Use a Jupyter notebook to explain your data wrangling and analytical steps to your colleagues. \n",
    "\n",
    "**Data & Documentation**\n",
    "\n",
    "- **Data Source:** https://d37ci6vzurychx.cloudfront.net/trip-data/green_tripdata_2023-02.parquet\n",
    "- **Data Dictionary:** [Green Trips Data Dictionary](https://www1.nyc.gov/assets/tlc/downloads/pdf/data_dictionary_trip_records_green.pdf).\n",
    "\n",
    "The TLC trip record data and a description of the initiative can be found at the following link: https://www1.nyc.gov/site/tlc/about/tlc-trip-record-data.page\n",
    "\n",
    "**`Note:`** Ensure that you explain the results from each question.\n",
    "\n",
    "\n",
    "**In this assignment you will use the Pandas library. Pandas allows us to load data that's stored in a various formats, e.g. excel, csv, txt, parquet, etc. In this assignment, you will learn to read data in parquet format which is one of the preferred formats when working with `Big Data`. [Click here to learn more about parquet files](https://towardsdatascience.com/csv-files-for-storage-no-thanks-theres-a-better-option-72c78a414d1d)**\n",
    "\n",
    "I also provided starter code below to help you to read the data in parquet format. First, you'll need to install a new library called *fastparquet*."
   ]
  },
  {
   "cell_type": "code",
   "execution_count": 3,
   "metadata": {},
   "outputs": [
    {
     "name": "stdout",
     "output_type": "stream",
     "text": [
      "Requirement already satisfied: fastparquet in /opt/homebrew/anaconda3/lib/python3.11/site-packages (2024.11.0)\n",
      "Requirement already satisfied: pandas>=1.5.0 in /opt/homebrew/anaconda3/lib/python3.11/site-packages (from fastparquet) (2.1.4)\n",
      "Requirement already satisfied: numpy in /opt/homebrew/anaconda3/lib/python3.11/site-packages (from fastparquet) (1.26.4)\n",
      "Requirement already satisfied: cramjam>=2.3 in /opt/homebrew/anaconda3/lib/python3.11/site-packages (from fastparquet) (2.10.0)\n",
      "Requirement already satisfied: fsspec in /opt/homebrew/anaconda3/lib/python3.11/site-packages (from fastparquet) (2023.10.0)\n",
      "Requirement already satisfied: packaging in /opt/homebrew/anaconda3/lib/python3.11/site-packages (from fastparquet) (23.1)\n",
      "Requirement already satisfied: python-dateutil>=2.8.2 in /opt/homebrew/anaconda3/lib/python3.11/site-packages (from pandas>=1.5.0->fastparquet) (2.8.2)\n",
      "Requirement already satisfied: pytz>=2020.1 in /opt/homebrew/anaconda3/lib/python3.11/site-packages (from pandas>=1.5.0->fastparquet) (2023.3.post1)\n",
      "Requirement already satisfied: tzdata>=2022.1 in /opt/homebrew/anaconda3/lib/python3.11/site-packages (from pandas>=1.5.0->fastparquet) (2023.3)\n",
      "Requirement already satisfied: six>=1.5 in /opt/homebrew/anaconda3/lib/python3.11/site-packages (from python-dateutil>=2.8.2->pandas>=1.5.0->fastparquet) (1.16.0)\n"
     ]
    }
   ],
   "source": [
    "#run this cell to install the fast parquet library\n",
    "!pip install fastparquet"
   ]
  },
  {
   "cell_type": "code",
   "execution_count": null,
   "metadata": {},
   "outputs": [],
   "source": []
  },
  {
   "cell_type": "markdown",
   "metadata": {},
   "source": [
    "## 1. Load the data\n",
    "Load the NYC Green Taxi Trip Records data directly from the URL into a data frame called tripdata_df. "
   ]
  },
  {
   "cell_type": "code",
   "execution_count": 5,
   "metadata": {},
   "outputs": [],
   "source": [
    "#import pandas\n",
    "import pandas as pd\n",
    "\n",
    "#let's load the data into a dataframe\n",
    "tripdata_df = pd.read_parquet(path = 'green_tripdata_2023-02.parquet', #provide the URL to the data source\n",
    "                      engine = 'fastparquet')\n",
    "\n",
    "#Note: you'll notice two new things. 1) We are using a new function called `read_parquet()` which indicates that we are \n",
    "#      reading data in parquet format. 2) We used the fastparquet library as the engine. \n",
    "#      That's it! Pandas will load the data into a dataframe. You can now use the dataframe for EDA.\n",
    "\n",
    "# Reminder: How does Pandas read other file formats?\n",
    "# 1. Excel files: pd.read_excel()\n",
    "# 2. CSV Files: pd.read_csv()\n",
    "# ... and now you know how to read parquet files using pd.read_parquet()\n"
   ]
  },
  {
   "cell_type": "markdown",
   "metadata": {},
   "source": [
    "## 2. Inspect the Data (5 pts) \n",
    "Inspect the data and perform the following: \n",
    "1. display the dimensions, and indicate if the variables have suitable types.\n",
    "2. convert all variables to suitable types"
   ]
  },
  {
   "cell_type": "code",
   "execution_count": 7,
   "metadata": {},
   "outputs": [
    {
     "name": "stdout",
     "output_type": "stream",
     "text": [
      "Dimensions: (64809, 20)\n",
      "   VendorID lpep_pickup_datetime lpep_dropoff_datetime store_and_fwd_flag  \\\n",
      "0       1.0  2023-02-01 00:46:22   2023-02-01 01:05:57                  N   \n",
      "1       2.0  2023-02-01 00:05:09   2023-02-01 00:22:42                  N   \n",
      "2       2.0  2023-02-01 00:03:47   2023-02-01 00:27:30                  N   \n",
      "3       2.0  2023-01-31 23:30:56   2023-01-31 23:51:40                  N   \n",
      "4       2.0  2023-02-01 00:15:05   2023-02-01 00:26:02                  N   \n",
      "\n",
      "   RatecodeID  PULocationID  DOLocationID  passenger_count  trip_distance  \\\n",
      "0         1.0          74.0         265.0              1.0          10.80   \n",
      "1         1.0         216.0         196.0              1.0           4.76   \n",
      "2         1.0           7.0         114.0              1.0           6.32   \n",
      "3         1.0          74.0         239.0              1.0           3.50   \n",
      "4         1.0          82.0         223.0              1.0           3.14   \n",
      "\n",
      "   fare_amount  extra  mta_tax  tip_amount  tolls_amount  ehail_fee  \\\n",
      "0         42.9    1.0      1.5        0.00           0.0        NaN   \n",
      "1         23.3    1.0      0.5        0.00           0.0        NaN   \n",
      "2         30.3    1.0      0.5        8.89           0.0        NaN   \n",
      "3         16.3    1.0      0.5        0.00           0.0        NaN   \n",
      "4         17.0    1.0      0.5        0.00           0.0        NaN   \n",
      "\n",
      "   improvement_surcharge  total_amount  payment_type  trip_type  \\\n",
      "0                    1.0         45.40           2.0        1.0   \n",
      "1                    1.0         25.80           2.0        1.0   \n",
      "2                    1.0         44.44           1.0        1.0   \n",
      "3                    1.0         21.55           2.0        1.0   \n",
      "4                    1.0         19.50           2.0        1.0   \n",
      "\n",
      "   congestion_surcharge  \n",
      "0                  0.00  \n",
      "1                  0.00  \n",
      "2                  2.75  \n",
      "3                  2.75  \n",
      "4                  0.00  \n",
      "<class 'pandas.core.frame.DataFrame'>\n",
      "RangeIndex: 64809 entries, 0 to 64808\n",
      "Data columns (total 20 columns):\n",
      " #   Column                 Non-Null Count  Dtype         \n",
      "---  ------                 --------------  -----         \n",
      " 0   VendorID               64809 non-null  float64       \n",
      " 1   lpep_pickup_datetime   64809 non-null  datetime64[us]\n",
      " 2   lpep_dropoff_datetime  64809 non-null  datetime64[us]\n",
      " 3   store_and_fwd_flag     59988 non-null  object        \n",
      " 4   RatecodeID             59988 non-null  float64       \n",
      " 5   PULocationID           64809 non-null  float64       \n",
      " 6   DOLocationID           64809 non-null  float64       \n",
      " 7   passenger_count        59988 non-null  float64       \n",
      " 8   trip_distance          64809 non-null  float64       \n",
      " 9   fare_amount            64809 non-null  float64       \n",
      " 10  extra                  64809 non-null  float64       \n",
      " 11  mta_tax                64809 non-null  float64       \n",
      " 12  tip_amount             64809 non-null  float64       \n",
      " 13  tolls_amount           64809 non-null  float64       \n",
      " 14  ehail_fee              0 non-null      float64       \n",
      " 15  improvement_surcharge  64809 non-null  float64       \n",
      " 16  total_amount           64809 non-null  float64       \n",
      " 17  payment_type           59988 non-null  float64       \n",
      " 18  trip_type              59983 non-null  float64       \n",
      " 19  congestion_surcharge   59988 non-null  float64       \n",
      "dtypes: datetime64[us](2), float64(17), object(1)\n",
      "memory usage: 9.9+ MB\n",
      "None\n"
     ]
    }
   ],
   "source": [
    "#2.1\n",
    "#prints dimensions of the data\n",
    "print(\"Dimensions:\", tripdata_df.shape)\n",
    "\n",
    "#print out the first 5 rows of the data; make sure it imported properly\n",
    "print(tripdata_df.head())\n",
    "\n",
    "#prints datatype of each column\n",
    "print(tripdata_df.info())"
   ]
  },
  {
   "cell_type": "markdown",
   "metadata": {},
   "source": [
    "It can be seen from the above results that the dimensions are 64809 x 20 and that pandas has already given each column a certain datatype. However, this isn't necessarily the best datatype for each variable. Here is a list of what each variable's datatype should be (only the ones that need changing are listed here):\n",
    "\n",
    "VendorID: category\n",
    "\n",
    "store_and_fwd_flag: category\n",
    "\n",
    "RatecodeID: category\n",
    "\n",
    "PULocationID: int64\n",
    "\n",
    "DOLocationID: int64\n",
    "\n",
    "passenger_count: int64\n",
    "\n",
    "payment_type: category\n",
    "\n",
    "trip_type: category\n",
    "\n",
    "Reasonings:\n",
    "For VendorID, RatecodeID, payment_type, and trip_type, even though they are written into the columns as floats/numbers, according to the variable definitions, they each refer to a specific option that has been defined. As such, it wouldn't make sense to leave them as the original float64 datatype (decimals are definitely not included in their data definitions), and not every can be included. \n",
    "\n",
    "store_and_fwd_flag should be stored as categorical data, as there are only really 3 options- yes, no, and unknown and it would makes sense to leave it as an object.\n",
    "\n",
    "Additionally, passenger_count should be stored as an integer, as it wouldn't make sense to have decimals of passengers. However, since we have still have null data within that column it can't quite be fixed in the next step yet.\n",
    "\n",
    "Lastly, for the PULocationID, and DOLocationID, they utilize taxi zone numbers which are populated using integers between 1-263 (with values of 264 and 265 corresponding to unknown and outside of NYC respectively) according to this [source](https://www.nyc.gov/assets/tlc/downloads/pdf/trip_record_user_guide.pdf) that was found on [Kaggle](https://www.kaggle.com/datasets/mxruedag/tlc-nyc-taxi-zones). Meaning, it makes more sense to have this variable stored as an integer. The argument for storing them as the category datatype could also be made, but with over 200 possible options, it makes more sense to place restrictions on decimal placements. "
   ]
  },
  {
   "cell_type": "code",
   "execution_count": 9,
   "metadata": {},
   "outputs": [],
   "source": [
    "#2.2\n",
    "# convert variables mentioned above to suitable types\n",
    "tripdata_df['VendorID'] = tripdata_df['VendorID'].astype('category')\n",
    "tripdata_df['RatecodeID'] = tripdata_df['RatecodeID'].astype('category')\n",
    "tripdata_df['PULocationID'] = tripdata_df['PULocationID'].astype('int64')\n",
    "tripdata_df['DOLocationID'] = tripdata_df['DOLocationID'].astype('int64')\n",
    "tripdata_df['payment_type'] = tripdata_df['payment_type'].astype('category')\n",
    "tripdata_df['trip_type'] = tripdata_df['trip_type'].astype('category')\n",
    "tripdata_df['store_and_fwd_flag'] = tripdata_df['store_and_fwd_flag'].astype('category')"
   ]
  },
  {
   "cell_type": "markdown",
   "metadata": {},
   "source": [
    "Note: passenger_count has not been converted into an integer type yet, as there is some invalid data to be cleaned in the next few steps"
   ]
  },
  {
   "cell_type": "markdown",
   "metadata": {},
   "source": [
    "## 3. Types of Data (2 pts) \n",
    "Are there any categorical data in this dataset. If they exist, demonstrate at least two categorical variables and indicate if they are nominal or ordinal (hint: read the data dictionary above which describes all fields in the data)"
   ]
  },
  {
   "cell_type": "code",
   "execution_count": 12,
   "metadata": {},
   "outputs": [
    {
     "name": "stdout",
     "output_type": "stream",
     "text": [
      "VendorID\n",
      "2.0    56249\n",
      "1.0     8560\n",
      "Name: count, dtype: int64\n",
      "RatecodeID\n",
      "1.0     57911\n",
      "5.0      1828\n",
      "2.0       154\n",
      "4.0        51\n",
      "3.0        38\n",
      "99.0        5\n",
      "6.0         1\n",
      "Name: count, dtype: int64\n"
     ]
    }
   ],
   "source": [
    "# print the value count of VendorID and RatecodeID\n",
    "print(tripdata_df['VendorID'].value_counts())\n",
    "print(tripdata_df['RatecodeID'].value_counts())"
   ]
  },
  {
   "cell_type": "markdown",
   "metadata": {},
   "source": [
    "Yes, there is categorical data within this dataset. This includes the variable RatecodeID and VendorID as shown above. It can be seen within the value counts above that both of these variables have values that don't really vary. This makes sense when taking the [data dictionary](https://www.nyc.gov/assets/tlc/downloads/pdf/data_dictionary_trip_records_green.pdf) into account. According to the data dictionary, for VendorID, there are only three possible options, 1, 2, and 6, that correspond to a specific vendor. Similarly, RatecodeID will only have the values 1-6, or 99 which correspond to a specific rate code that is in effect (99 represents unknown in this case). Since both of these variables are group by distinct categories and have limited possible values, it makes sense to consider then as categorical variables. Additionally, both VendorID and RatecodeID are nominal variables, as the values, although corresponding to a specific thing, don't correspond to any particular ranking, making them both nominal variables."
   ]
  },
  {
   "cell_type": "markdown",
   "metadata": {},
   "source": [
    "## 4. Missing Values (10 pts) \n",
    "Evaluate the frequency of missing values in the dataset and perform the following:\n",
    "1. explain if missing values are an isolated case or a widespread issue? \n",
    "2. what method would you recommend to handle missing data?\n",
    "3. write the suitable code to handle the missing values."
   ]
  },
  {
   "cell_type": "code",
   "execution_count": 15,
   "metadata": {},
   "outputs": [
    {
     "name": "stdout",
     "output_type": "stream",
     "text": [
      "VendorID                     0\n",
      "lpep_pickup_datetime         0\n",
      "lpep_dropoff_datetime        0\n",
      "store_and_fwd_flag        4821\n",
      "RatecodeID                4821\n",
      "PULocationID                 0\n",
      "DOLocationID                 0\n",
      "passenger_count           4821\n",
      "trip_distance                0\n",
      "fare_amount                  0\n",
      "extra                        0\n",
      "mta_tax                      0\n",
      "tip_amount                   0\n",
      "tolls_amount                 0\n",
      "ehail_fee                64809\n",
      "improvement_surcharge        0\n",
      "total_amount                 0\n",
      "payment_type              4821\n",
      "trip_type                 4826\n",
      "congestion_surcharge      4821\n",
      "dtype: int64\n"
     ]
    }
   ],
   "source": [
    "#4.1\n",
    "#Find number of null values in each column within the data frame\n",
    "print(tripdata_df.isnull().sum())"
   ]
  },
  {
   "cell_type": "markdown",
   "metadata": {},
   "source": [
    "The missing values within the data set is a widespread issue. Out of the 20 columns, there are 6 columns that contain missing values. From the data, even in a single column such as payment_type or trip_type have 4821 and 4826 missing values respectively. Additionally, the entirety of ehail_fee does not contain any values. These missing values seem to be missing at random (MAR), there could be some relationship between the missing variables, but there is nothing in the column that would indicate a particular reason that the data is missing"
   ]
  },
  {
   "cell_type": "code",
   "execution_count": 17,
   "metadata": {},
   "outputs": [
    {
     "name": "stdout",
     "output_type": "stream",
     "text": [
      "64808    7\n",
      "61588    7\n",
      "61590    7\n",
      "61591    7\n",
      "61592    7\n",
      "        ..\n",
      "21609    1\n",
      "21610    1\n",
      "21611    1\n",
      "21612    1\n",
      "32404    1\n",
      "Length: 64809, dtype: int64\n"
     ]
    }
   ],
   "source": [
    "#4.2\n",
    "#Find number of null values per row\n",
    "print(tripdata_df.isnull().sum(axis=1).sort_values(ascending=False))"
   ]
  },
  {
   "cell_type": "markdown",
   "metadata": {},
   "source": [
    "By, printing out how many values each row is missing, it can be seen that quite a few rows have 7 missing values and each row has at least one (coming from the ehail_fee column). This is not good for the dataset, and the data will have to be cleaned.\n",
    "\n",
    "There are a few ways I would like to handle this missing data. \n",
    "\n",
    "First of all, I would like to straight up delete the ehail_fee column, as there are no values that have been logged as part of its data. As such, it doesn't really make sense to analyze anything in terms of the ehail_fee column because there is *no data to analyze*. Therefore, the ehail_fee column will be deleted.\n",
    "\n",
    "Another thing that I would like to delete are all the rows that have greater than 4 null values, as those are rows that have multiple missing values and it is best to get rid of them."
   ]
  },
  {
   "cell_type": "code",
   "execution_count": 19,
   "metadata": {},
   "outputs": [
    {
     "name": "stdout",
     "output_type": "stream",
     "text": [
      "<class 'pandas.core.frame.DataFrame'>\n",
      "Index: 59988 entries, 0 to 59987\n",
      "Data columns (total 19 columns):\n",
      " #   Column                 Non-Null Count  Dtype         \n",
      "---  ------                 --------------  -----         \n",
      " 0   VendorID               59988 non-null  category      \n",
      " 1   lpep_pickup_datetime   59988 non-null  datetime64[us]\n",
      " 2   lpep_dropoff_datetime  59988 non-null  datetime64[us]\n",
      " 3   store_and_fwd_flag     59988 non-null  category      \n",
      " 4   RatecodeID             59988 non-null  category      \n",
      " 5   PULocationID           59988 non-null  int64         \n",
      " 6   DOLocationID           59988 non-null  int64         \n",
      " 7   passenger_count        59988 non-null  float64       \n",
      " 8   trip_distance          59988 non-null  float64       \n",
      " 9   fare_amount            59988 non-null  float64       \n",
      " 10  extra                  59988 non-null  float64       \n",
      " 11  mta_tax                59988 non-null  float64       \n",
      " 12  tip_amount             59988 non-null  float64       \n",
      " 13  tolls_amount           59988 non-null  float64       \n",
      " 14  improvement_surcharge  59988 non-null  float64       \n",
      " 15  total_amount           59988 non-null  float64       \n",
      " 16  payment_type           59988 non-null  category      \n",
      " 17  trip_type              59983 non-null  category      \n",
      " 18  congestion_surcharge   59988 non-null  float64       \n",
      "dtypes: category(5), datetime64[us](2), float64(10), int64(2)\n",
      "memory usage: 7.2 MB\n",
      "None\n"
     ]
    }
   ],
   "source": [
    "#4.3\n",
    "#Handle missing data-deletion\n",
    "#Deletes \"ehail_fee\" column\n",
    "tripdata_df.drop('ehail_fee', axis=1, inplace=True)\n",
    "\n",
    "#Deletes rows with 4 or more null values\n",
    "tripdata_df = tripdata_df[tripdata_df.isnull().sum(axis=1) < 4]\n",
    "\n",
    "print(tripdata_df.info())"
   ]
  },
  {
   "cell_type": "code",
   "execution_count": 20,
   "metadata": {},
   "outputs": [
    {
     "name": "stdout",
     "output_type": "stream",
     "text": [
      "New Dimensions:  (59988, 19)\n",
      "39622    1\n",
      "58313    1\n",
      "19276    1\n",
      "39044    1\n",
      "10068    1\n",
      "        ..\n",
      "20001    0\n",
      "20002    0\n",
      "20003    0\n",
      "20004    0\n",
      "59987    0\n",
      "Length: 59988, dtype: int64\n"
     ]
    }
   ],
   "source": [
    "#Check dimensions of the dataframe\n",
    "print('New Dimensions: ', tripdata_df.shape)\n",
    "#Check how much null data there is again\n",
    "print(tripdata_df.isnull().sum(axis=1).sort_values(ascending=False))"
   ]
  },
  {
   "cell_type": "markdown",
   "metadata": {},
   "source": [
    "The larger parts of the data has been cleaned. Although there are still some null values here and there , it is definitely a lot better than before, and will make data exploration much easier"
   ]
  },
  {
   "cell_type": "code",
   "execution_count": 22,
   "metadata": {},
   "outputs": [],
   "source": [
    "#Fix datatype of passenger_count\n",
    "tripdata_df['passenger_count'] = tripdata_df['passenger_count'].astype('int64')"
   ]
  },
  {
   "cell_type": "markdown",
   "metadata": {},
   "source": [
    "The above code fixes the datatype of passenger count, as we previously were not able to do so because of all the null data that has since been cleaned. "
   ]
  },
  {
   "cell_type": "markdown",
   "metadata": {},
   "source": [
    "## 5. Invalid Data (10 pts) \n",
    "Explore the data to determine if there are any invalid values and perform the following: \n",
    "1. demonstrate at least three issues that you found.\n",
    "2. write suitable code to handle the invalid data that you found."
   ]
  },
  {
   "cell_type": "code",
   "execution_count": 25,
   "metadata": {},
   "outputs": [
    {
     "data": {
      "text/html": [
       "<div>\n",
       "<style scoped>\n",
       "    .dataframe tbody tr th:only-of-type {\n",
       "        vertical-align: middle;\n",
       "    }\n",
       "\n",
       "    .dataframe tbody tr th {\n",
       "        vertical-align: top;\n",
       "    }\n",
       "\n",
       "    .dataframe thead th {\n",
       "        text-align: right;\n",
       "    }\n",
       "</style>\n",
       "<table border=\"1\" class=\"dataframe\">\n",
       "  <thead>\n",
       "    <tr style=\"text-align: right;\">\n",
       "      <th></th>\n",
       "      <th>VendorID</th>\n",
       "      <th>lpep_pickup_datetime</th>\n",
       "      <th>lpep_dropoff_datetime</th>\n",
       "      <th>store_and_fwd_flag</th>\n",
       "      <th>RatecodeID</th>\n",
       "      <th>PULocationID</th>\n",
       "      <th>DOLocationID</th>\n",
       "      <th>passenger_count</th>\n",
       "      <th>trip_distance</th>\n",
       "      <th>fare_amount</th>\n",
       "      <th>extra</th>\n",
       "      <th>mta_tax</th>\n",
       "      <th>tip_amount</th>\n",
       "      <th>tolls_amount</th>\n",
       "      <th>improvement_surcharge</th>\n",
       "      <th>total_amount</th>\n",
       "      <th>payment_type</th>\n",
       "      <th>trip_type</th>\n",
       "      <th>congestion_surcharge</th>\n",
       "    </tr>\n",
       "  </thead>\n",
       "  <tbody>\n",
       "    <tr>\n",
       "      <th>count</th>\n",
       "      <td>59988.0</td>\n",
       "      <td>59988</td>\n",
       "      <td>59988</td>\n",
       "      <td>59988</td>\n",
       "      <td>59988.0</td>\n",
       "      <td>59988.000000</td>\n",
       "      <td>59988.000000</td>\n",
       "      <td>59988.000000</td>\n",
       "      <td>59988.000000</td>\n",
       "      <td>59988.000000</td>\n",
       "      <td>59988.000000</td>\n",
       "      <td>59988.000000</td>\n",
       "      <td>59988.000000</td>\n",
       "      <td>59988.000000</td>\n",
       "      <td>59988.000000</td>\n",
       "      <td>59988.000000</td>\n",
       "      <td>59988.0</td>\n",
       "      <td>59983.0</td>\n",
       "      <td>59988.000000</td>\n",
       "    </tr>\n",
       "    <tr>\n",
       "      <th>unique</th>\n",
       "      <td>2.0</td>\n",
       "      <td>NaN</td>\n",
       "      <td>NaN</td>\n",
       "      <td>2</td>\n",
       "      <td>7.0</td>\n",
       "      <td>NaN</td>\n",
       "      <td>NaN</td>\n",
       "      <td>NaN</td>\n",
       "      <td>NaN</td>\n",
       "      <td>NaN</td>\n",
       "      <td>NaN</td>\n",
       "      <td>NaN</td>\n",
       "      <td>NaN</td>\n",
       "      <td>NaN</td>\n",
       "      <td>NaN</td>\n",
       "      <td>NaN</td>\n",
       "      <td>4.0</td>\n",
       "      <td>2.0</td>\n",
       "      <td>NaN</td>\n",
       "    </tr>\n",
       "    <tr>\n",
       "      <th>top</th>\n",
       "      <td>2.0</td>\n",
       "      <td>NaN</td>\n",
       "      <td>NaN</td>\n",
       "      <td>N</td>\n",
       "      <td>1.0</td>\n",
       "      <td>NaN</td>\n",
       "      <td>NaN</td>\n",
       "      <td>NaN</td>\n",
       "      <td>NaN</td>\n",
       "      <td>NaN</td>\n",
       "      <td>NaN</td>\n",
       "      <td>NaN</td>\n",
       "      <td>NaN</td>\n",
       "      <td>NaN</td>\n",
       "      <td>NaN</td>\n",
       "      <td>NaN</td>\n",
       "      <td>1.0</td>\n",
       "      <td>1.0</td>\n",
       "      <td>NaN</td>\n",
       "    </tr>\n",
       "    <tr>\n",
       "      <th>freq</th>\n",
       "      <td>51542.0</td>\n",
       "      <td>NaN</td>\n",
       "      <td>NaN</td>\n",
       "      <td>59779</td>\n",
       "      <td>57911.0</td>\n",
       "      <td>NaN</td>\n",
       "      <td>NaN</td>\n",
       "      <td>NaN</td>\n",
       "      <td>NaN</td>\n",
       "      <td>NaN</td>\n",
       "      <td>NaN</td>\n",
       "      <td>NaN</td>\n",
       "      <td>NaN</td>\n",
       "      <td>NaN</td>\n",
       "      <td>NaN</td>\n",
       "      <td>NaN</td>\n",
       "      <td>38549.0</td>\n",
       "      <td>58270.0</td>\n",
       "      <td>NaN</td>\n",
       "    </tr>\n",
       "    <tr>\n",
       "      <th>mean</th>\n",
       "      <td>NaN</td>\n",
       "      <td>2023-02-14 20:00:37.047243</td>\n",
       "      <td>2023-02-14 20:18:01.719027</td>\n",
       "      <td>NaN</td>\n",
       "      <td>NaN</td>\n",
       "      <td>98.996866</td>\n",
       "      <td>138.832633</td>\n",
       "      <td>1.294792</td>\n",
       "      <td>2.703820</td>\n",
       "      <td>16.248762</td>\n",
       "      <td>0.910920</td>\n",
       "      <td>0.616240</td>\n",
       "      <td>2.069589</td>\n",
       "      <td>0.149456</td>\n",
       "      <td>0.949873</td>\n",
       "      <td>21.444178</td>\n",
       "      <td>NaN</td>\n",
       "      <td>NaN</td>\n",
       "      <td>0.733793</td>\n",
       "    </tr>\n",
       "    <tr>\n",
       "      <th>min</th>\n",
       "      <td>NaN</td>\n",
       "      <td>2008-12-31 23:02:29</td>\n",
       "      <td>2009-01-01 16:41:01</td>\n",
       "      <td>NaN</td>\n",
       "      <td>NaN</td>\n",
       "      <td>1.000000</td>\n",
       "      <td>1.000000</td>\n",
       "      <td>0.000000</td>\n",
       "      <td>0.000000</td>\n",
       "      <td>-67.000000</td>\n",
       "      <td>-2.500000</td>\n",
       "      <td>-0.500000</td>\n",
       "      <td>-0.900000</td>\n",
       "      <td>-6.550000</td>\n",
       "      <td>-1.000000</td>\n",
       "      <td>-68.000000</td>\n",
       "      <td>NaN</td>\n",
       "      <td>NaN</td>\n",
       "      <td>-2.750000</td>\n",
       "    </tr>\n",
       "    <tr>\n",
       "      <th>25%</th>\n",
       "      <td>NaN</td>\n",
       "      <td>2023-02-08 01:04:49</td>\n",
       "      <td>2023-02-08 01:45:47.500000</td>\n",
       "      <td>NaN</td>\n",
       "      <td>NaN</td>\n",
       "      <td>74.000000</td>\n",
       "      <td>74.000000</td>\n",
       "      <td>1.000000</td>\n",
       "      <td>1.100000</td>\n",
       "      <td>9.300000</td>\n",
       "      <td>0.000000</td>\n",
       "      <td>0.500000</td>\n",
       "      <td>0.000000</td>\n",
       "      <td>0.000000</td>\n",
       "      <td>1.000000</td>\n",
       "      <td>12.620000</td>\n",
       "      <td>NaN</td>\n",
       "      <td>NaN</td>\n",
       "      <td>0.000000</td>\n",
       "    </tr>\n",
       "    <tr>\n",
       "      <th>50%</th>\n",
       "      <td>NaN</td>\n",
       "      <td>2023-02-14 20:08:20</td>\n",
       "      <td>2023-02-14 20:21:01</td>\n",
       "      <td>NaN</td>\n",
       "      <td>NaN</td>\n",
       "      <td>75.000000</td>\n",
       "      <td>138.000000</td>\n",
       "      <td>1.000000</td>\n",
       "      <td>1.800000</td>\n",
       "      <td>12.800000</td>\n",
       "      <td>0.000000</td>\n",
       "      <td>0.500000</td>\n",
       "      <td>1.500000</td>\n",
       "      <td>0.000000</td>\n",
       "      <td>1.000000</td>\n",
       "      <td>17.700000</td>\n",
       "      <td>NaN</td>\n",
       "      <td>NaN</td>\n",
       "      <td>0.000000</td>\n",
       "    </tr>\n",
       "    <tr>\n",
       "      <th>75%</th>\n",
       "      <td>NaN</td>\n",
       "      <td>2023-02-21 22:21:02</td>\n",
       "      <td>2023-02-21 22:38:29.250000</td>\n",
       "      <td>NaN</td>\n",
       "      <td>NaN</td>\n",
       "      <td>129.000000</td>\n",
       "      <td>219.000000</td>\n",
       "      <td>1.000000</td>\n",
       "      <td>3.100000</td>\n",
       "      <td>19.100000</td>\n",
       "      <td>2.500000</td>\n",
       "      <td>0.500000</td>\n",
       "      <td>3.270000</td>\n",
       "      <td>0.000000</td>\n",
       "      <td>1.000000</td>\n",
       "      <td>25.750000</td>\n",
       "      <td>NaN</td>\n",
       "      <td>NaN</td>\n",
       "      <td>2.750000</td>\n",
       "    </tr>\n",
       "    <tr>\n",
       "      <th>max</th>\n",
       "      <td>NaN</td>\n",
       "      <td>2023-03-01 00:01:06</td>\n",
       "      <td>2023-03-01 16:51:02</td>\n",
       "      <td>NaN</td>\n",
       "      <td>NaN</td>\n",
       "      <td>265.000000</td>\n",
       "      <td>265.000000</td>\n",
       "      <td>9.000000</td>\n",
       "      <td>6470.330000</td>\n",
       "      <td>440.000000</td>\n",
       "      <td>7.500000</td>\n",
       "      <td>4.250000</td>\n",
       "      <td>80.000000</td>\n",
       "      <td>45.350000</td>\n",
       "      <td>1.000000</td>\n",
       "      <td>441.000000</td>\n",
       "      <td>NaN</td>\n",
       "      <td>NaN</td>\n",
       "      <td>2.750000</td>\n",
       "    </tr>\n",
       "    <tr>\n",
       "      <th>std</th>\n",
       "      <td>NaN</td>\n",
       "      <td>NaN</td>\n",
       "      <td>NaN</td>\n",
       "      <td>NaN</td>\n",
       "      <td>NaN</td>\n",
       "      <td>60.465599</td>\n",
       "      <td>76.511290</td>\n",
       "      <td>0.944409</td>\n",
       "      <td>26.548254</td>\n",
       "      <td>12.570533</td>\n",
       "      <td>1.305848</td>\n",
       "      <td>0.366085</td>\n",
       "      <td>2.817181</td>\n",
       "      <td>1.038777</td>\n",
       "      <td>0.205001</td>\n",
       "      <td>14.543586</td>\n",
       "      <td>NaN</td>\n",
       "      <td>NaN</td>\n",
       "      <td>1.216754</td>\n",
       "    </tr>\n",
       "  </tbody>\n",
       "</table>\n",
       "</div>"
      ],
      "text/plain": [
       "        VendorID        lpep_pickup_datetime       lpep_dropoff_datetime  \\\n",
       "count    59988.0                       59988                       59988   \n",
       "unique       2.0                         NaN                         NaN   \n",
       "top          2.0                         NaN                         NaN   \n",
       "freq     51542.0                         NaN                         NaN   \n",
       "mean         NaN  2023-02-14 20:00:37.047243  2023-02-14 20:18:01.719027   \n",
       "min          NaN         2008-12-31 23:02:29         2009-01-01 16:41:01   \n",
       "25%          NaN         2023-02-08 01:04:49  2023-02-08 01:45:47.500000   \n",
       "50%          NaN         2023-02-14 20:08:20         2023-02-14 20:21:01   \n",
       "75%          NaN         2023-02-21 22:21:02  2023-02-21 22:38:29.250000   \n",
       "max          NaN         2023-03-01 00:01:06         2023-03-01 16:51:02   \n",
       "std          NaN                         NaN                         NaN   \n",
       "\n",
       "       store_and_fwd_flag  RatecodeID  PULocationID  DOLocationID  \\\n",
       "count               59988     59988.0  59988.000000  59988.000000   \n",
       "unique                  2         7.0           NaN           NaN   \n",
       "top                     N         1.0           NaN           NaN   \n",
       "freq                59779     57911.0           NaN           NaN   \n",
       "mean                  NaN         NaN     98.996866    138.832633   \n",
       "min                   NaN         NaN      1.000000      1.000000   \n",
       "25%                   NaN         NaN     74.000000     74.000000   \n",
       "50%                   NaN         NaN     75.000000    138.000000   \n",
       "75%                   NaN         NaN    129.000000    219.000000   \n",
       "max                   NaN         NaN    265.000000    265.000000   \n",
       "std                   NaN         NaN     60.465599     76.511290   \n",
       "\n",
       "        passenger_count  trip_distance   fare_amount         extra  \\\n",
       "count      59988.000000   59988.000000  59988.000000  59988.000000   \n",
       "unique              NaN            NaN           NaN           NaN   \n",
       "top                 NaN            NaN           NaN           NaN   \n",
       "freq                NaN            NaN           NaN           NaN   \n",
       "mean           1.294792       2.703820     16.248762      0.910920   \n",
       "min            0.000000       0.000000    -67.000000     -2.500000   \n",
       "25%            1.000000       1.100000      9.300000      0.000000   \n",
       "50%            1.000000       1.800000     12.800000      0.000000   \n",
       "75%            1.000000       3.100000     19.100000      2.500000   \n",
       "max            9.000000    6470.330000    440.000000      7.500000   \n",
       "std            0.944409      26.548254     12.570533      1.305848   \n",
       "\n",
       "             mta_tax    tip_amount  tolls_amount  improvement_surcharge  \\\n",
       "count   59988.000000  59988.000000  59988.000000           59988.000000   \n",
       "unique           NaN           NaN           NaN                    NaN   \n",
       "top              NaN           NaN           NaN                    NaN   \n",
       "freq             NaN           NaN           NaN                    NaN   \n",
       "mean        0.616240      2.069589      0.149456               0.949873   \n",
       "min        -0.500000     -0.900000     -6.550000              -1.000000   \n",
       "25%         0.500000      0.000000      0.000000               1.000000   \n",
       "50%         0.500000      1.500000      0.000000               1.000000   \n",
       "75%         0.500000      3.270000      0.000000               1.000000   \n",
       "max         4.250000     80.000000     45.350000               1.000000   \n",
       "std         0.366085      2.817181      1.038777               0.205001   \n",
       "\n",
       "        total_amount  payment_type  trip_type  congestion_surcharge  \n",
       "count   59988.000000       59988.0    59983.0          59988.000000  \n",
       "unique           NaN           4.0        2.0                   NaN  \n",
       "top              NaN           1.0        1.0                   NaN  \n",
       "freq             NaN       38549.0    58270.0                   NaN  \n",
       "mean       21.444178           NaN        NaN              0.733793  \n",
       "min       -68.000000           NaN        NaN             -2.750000  \n",
       "25%        12.620000           NaN        NaN              0.000000  \n",
       "50%        17.700000           NaN        NaN              0.000000  \n",
       "75%        25.750000           NaN        NaN              2.750000  \n",
       "max       441.000000           NaN        NaN              2.750000  \n",
       "std        14.543586           NaN        NaN              1.216754  "
      ]
     },
     "execution_count": 25,
     "metadata": {},
     "output_type": "execute_result"
    }
   ],
   "source": [
    "#5.1\n",
    "#Get described data to see some more information about the data frame\n",
    "tripdata_df.describe(include='all')"
   ]
  },
  {
   "cell_type": "code",
   "execution_count": 26,
   "metadata": {},
   "outputs": [
    {
     "name": "stdout",
     "output_type": "stream",
     "text": [
      "0        False\n",
      "39985    False\n",
      "39986    False\n",
      "39987    False\n",
      "39988    False\n",
      "         ...  \n",
      "20000    False\n",
      "20001    False\n",
      "20002    False\n",
      "19990    False\n",
      "59987    False\n",
      "Length: 59988, dtype: bool\n"
     ]
    }
   ],
   "source": [
    "#See if there are doubles within the data\n",
    "print(tripdata_df.duplicated().sort_values())"
   ]
  },
  {
   "cell_type": "code",
   "execution_count": 81,
   "metadata": {},
   "outputs": [
    {
     "name": "stdout",
     "output_type": "stream",
     "text": [
      "VendorID                 0\n",
      "extra                    0\n",
      "trip_type                0\n",
      "payment_type             0\n",
      "total_amount             0\n",
      "improvement_surcharge    0\n",
      "tolls_amount             0\n",
      "tip_amount               0\n",
      "mta_tax                  0\n",
      "fare_amount              0\n",
      "lpep_pickup_datetime     0\n",
      "trip_distance            0\n",
      "passenger_count          0\n",
      "DOLocationID             0\n",
      "PULocationID             0\n",
      "RatecodeID               0\n",
      "store_and_fwd_flag       0\n",
      "lpep_dropoff_datetime    0\n",
      "congestion_surcharge     0\n",
      "dtype: int64\n"
     ]
    }
   ],
   "source": [
    "#Check for any null values within data\n",
    "print(tripdata_df.isnull().sum().sort_values(ascending=False))"
   ]
  },
  {
   "cell_type": "code",
   "execution_count": 83,
   "metadata": {},
   "outputs": [
    {
     "name": "stdout",
     "output_type": "stream",
     "text": [
      "0        False\n",
      "39983    False\n",
      "39984    False\n",
      "39985    False\n",
      "39986    False\n",
      "         ...  \n",
      "20012    False\n",
      "20013    False\n",
      "20014    False\n",
      "20002    False\n",
      "59986    False\n",
      "Name: trip_type, Length: 59954, dtype: bool\n"
     ]
    }
   ],
   "source": [
    "#Look at the null values within trip_data\n",
    "print(tripdata_df['trip_type'].isnull().sort_values())"
   ]
  },
  {
   "cell_type": "markdown",
   "metadata": {},
   "source": [
    "Above, the trip data was described, and got pandas to check for any duplicates within the data (there was none). However, from describing the data, there were some issues that came to light.\n",
    "\n",
    "Three issues:\n",
    "\n",
    "1. There are somehow negative fare amounts, tip amounts, tolls amounts, total amount, and mta taxes  as shown by the min value of said categories. It doesn't make sense for payments to be negative in this case, so these invalid pieces of data need to be rectified.\n",
    "2. Additionally, there seems to be some dates within lpep_pickup_datetime and lpep_dropoff_datetime that aren't in the correct date range, as this data is supposed to come from February 2023. When describing the data, it can be seen that there is a max value that is in March (wrong month) and a min value that in the wrong year of 2008/2009.\n",
    "3. Lastly, there are still some unknown values left within the trip_type column (5 to be exact) and should be cleaned as well."
   ]
  },
  {
   "cell_type": "code",
   "execution_count": 87,
   "metadata": {},
   "outputs": [
    {
     "name": "stdout",
     "output_type": "stream",
     "text": [
      "Series([], Name: fare_amount, dtype: float64)\n",
      "Series([], Name: tip_amount, dtype: float64)\n",
      "Series([], Name: tolls_amount, dtype: float64)\n",
      "Series([], Name: mta_tax, dtype: float64)\n",
      "Series([], Name: total_amount, dtype: float64)\n"
     ]
    }
   ],
   "source": [
    "#5.2\n",
    "#Dealing with negative payments in all columns\n",
    "tripdata_df.loc[tripdata_df['fare_amount'] < 0, 'fare_amount'] = tripdata_df['fare_amount'].mean()\n",
    "\n",
    "tripdata_df.loc[tripdata_df['tip_amount'] < 0, 'tip_amount'] = tripdata_df['tip_amount'].mean()\n",
    "\n",
    "tripdata_df.loc[tripdata_df['tolls_amount'] < 0, 'tolls_amount'] = tripdata_df['tolls_amount'].mean()\n",
    "\n",
    "tripdata_df.loc[tripdata_df['mta_tax'] < 0, 'mta_tax'] = tripdata_df['mta_tax'].mean()\n",
    "\n",
    "tripdata_df.loc[tripdata_df['total_amount'] < 0, 'total_amount'] = tripdata_df['total_amount'].mean()\n",
    "\n",
    "#Check if there are still negative payments\n",
    "print(tripdata_df.loc[tripdata_df['fare_amount'] < 0, 'fare_amount'])\n",
    "print(tripdata_df.loc[tripdata_df['tip_amount'] < 0, 'tip_amount'])\n",
    "print(tripdata_df.loc[tripdata_df['tolls_amount'] < 0, 'tolls_amount'])\n",
    "print(tripdata_df.loc[tripdata_df['mta_tax'] < 0, 'mta_tax'])\n",
    "print(tripdata_df.loc[tripdata_df['total_amount'] < 0, 'total_amount'])\n"
   ]
  },
  {
   "cell_type": "code",
   "execution_count": 89,
   "metadata": {},
   "outputs": [
    {
     "name": "stdout",
     "output_type": "stream",
     "text": [
      "Series([], Name: lpep_pickup_datetime, dtype: datetime64[us])\n",
      "Series([], Name: lpep_dropoff_datetime, dtype: datetime64[us])\n",
      "(59954, 19)\n"
     ]
    }
   ],
   "source": [
    "#Dealing with invalid dates\n",
    "tripdata_df = tripdata_df.loc[\n",
    "    (tripdata_df['lpep_pickup_datetime'] > '2023-01-31') & \n",
    "    (tripdata_df['lpep_pickup_datetime'] < '2023-03-01')]\n",
    "#Check if there is any invalid dates left\n",
    "print(tripdata_df.loc[\n",
    "    (tripdata_df['lpep_pickup_datetime'] <= '2023-01-31') |\n",
    "    (tripdata_df['lpep_pickup_datetime'] >= '2023-03-01'),\n",
    "    'lpep_pickup_datetime'])\n",
    "\n",
    "tripdata_df = tripdata_df.loc[\n",
    "    (tripdata_df['lpep_dropoff_datetime'] > '2023-01-31') & \n",
    "    (tripdata_df['lpep_dropoff_datetime'] < '2023-03-01')]\n",
    "#Check if there is any invalid dates left\n",
    "print(tripdata_df.loc[\n",
    "    (tripdata_df['lpep_dropoff_datetime'] <= '2023-01-31') |\n",
    "    (tripdata_df['lpep_dropoff_datetime'] >= '2023-03-01'),\n",
    "    'lpep_dropoff_datetime'])\n",
    "\n",
    "#Take a look at the dimensions of our data at this point\n",
    "print(tripdata_df.shape)"
   ]
  },
  {
   "cell_type": "code",
   "execution_count": 32,
   "metadata": {},
   "outputs": [
    {
     "name": "stdout",
     "output_type": "stream",
     "text": [
      "0        False\n",
      "39983    False\n",
      "39984    False\n",
      "39985    False\n",
      "39986    False\n",
      "         ...  \n",
      "20012    False\n",
      "20013    False\n",
      "20014    False\n",
      "20002    False\n",
      "59986    False\n",
      "Name: trip_type, Length: 59954, dtype: bool\n"
     ]
    }
   ],
   "source": [
    "#Dealing with unknown values left in trip_type column\n",
    "tripdata_df['trip_type'].fillna(tripdata_df['trip_type'].mode()[0], inplace=True)\n",
    "#Check for any null values\n",
    "print(tripdata_df['trip_type'].isnull().sort_values())"
   ]
  },
  {
   "cell_type": "markdown",
   "metadata": {},
   "source": [
    "1. The negative payments in fare_amount, tip_amount, toll_amount, mta_tax, and total_amount was rectified by taking the mean of the data and implementing that as the their entries instead.\n",
    "2. For the dates that were not within the proper range, it makes more sense to just delete their corresponding rows, as they are not in the proper range of data that the data originally said it was. \n",
    "3. The leftover unknown values within the trip_type column was fixed by taking the mode of the data for that, and setting those unknown values to the mode. This makes sense, as there were only 5 values that were missing (not a huge chunk) and it could be surmised that the data would continue to follow the trend especially since around 97% of the data was the mode of the data (taken from the table after using df.describe())."
   ]
  },
  {
   "cell_type": "markdown",
   "metadata": {},
   "source": [
    "<span style='color:red'>**Answer the following questions using the prepared data.**</span>"
   ]
  },
  {
   "cell_type": "markdown",
   "metadata": {},
   "source": [
    "## 6. Data Visualization (10 pts) \n",
    "Create bar charts that show: \n",
    "1. the most common way that New Yorkers request/hail a cab. \n",
    "2. the most common pick-up locations (display the top 5 locations). \n",
    "3. the most common drop-off locations (display the top 5 locations). \n",
    "\n",
    "Explain each chart."
   ]
  },
  {
   "cell_type": "code",
   "execution_count": 108,
   "metadata": {},
   "outputs": [
    {
     "name": "stdout",
     "output_type": "stream",
     "text": [
      "Axes(0.125,0.11;0.775x0.77)\n"
     ]
    },
    {
     "data": {
      "image/png": "[encoded data removed]",
      "text/plain": [
       "<Figure size 640x480 with 1 Axes>"
      ]
     },
     "metadata": {},
     "output_type": "display_data"
    }
   ],
   "source": [
    "#6.1\n",
    "#Display the trip type in a bar chart\n",
    "print(tripdata_df['trip_type'].value_counts().plot(kind='bar'))"
   ]
  },
  {
   "cell_type": "markdown",
   "metadata": {},
   "source": [
    "This chart shows how a New Yorker typically gets a cab. The x-asis represents the trip_type, or how the New Yorker requested a cab. The y-axis represents the number of these requests for each type, going in increments of 10,000.\n",
    "\n",
    "The x-axis trip_type refers to how New Yorkers typically request/hail a cab. Although the data shows either 1 or 2, each options refers to a specific option according to the data dictionary:\n",
    "\n",
    "1- street-hail (the customer flags down the cab from the street)\n",
    "\n",
    "2- dispatch (the customer reserves the cab beforehand)\n",
    "\n",
    "From this bar chart, it can be seen that the most common way New Yorkers request a cab is through street-hail, with the numbers varying wildly between the two options. For street-hailing, there are over 50,000 requests compared to dispatch with less than 10,000. Thinking of this data within the context of a bustling city such as New York, the data also makes sense, as a lot of people would probably hailing cabs from the streets for day-to-day activities, or simple conveniences."
   ]
  },
  {
   "cell_type": "code",
   "execution_count": 106,
   "metadata": {},
   "outputs": [
    {
     "name": "stdout",
     "output_type": "stream",
     "text": [
      "Axes(0.125,0.11;0.775x0.77)\n"
     ]
    },
    {
     "data": {
      "image/png": "[encoded data removed]",
      "text/plain": [
       "<Figure size 640x480 with 1 Axes>"
      ]
     },
     "metadata": {},
     "output_type": "display_data"
    }
   ],
   "source": [
    "#6.2\n",
    "#Display top five common pick-up locations as a bar chart\n",
    "print(tripdata_df['PULocationID'].value_counts().head().plot(kind='bar'))"
   ]
  },
  {
   "cell_type": "markdown",
   "metadata": {},
   "source": [
    "The chart above represents the 5 most common pick up locations for taxis. The y-axis goes by every 2,000 trips while the x-axis represents the IDs of taxi locations. \n",
    "\n",
    "From the chart above, it can be seen that the most common pick up location IDs are 74, 75, 166, 41, and 95 with 74 being the most common by a long shot. Using the taxi zone lookup table from [TLC Trip Record Data](https://www.nyc.gov/site/tlc/about/tlc-trip-record-data.page) the area that each ID corresponds to can be found. \n",
    "\n",
    "1. 74 - Manhattan (East Harlem North)\n",
    "2. 75 - Manhattan (East Harlem South)\n",
    "3. 166 - Manhattan (Morningside Heights)\n",
    "4. 41 - Manhattan (Central Harlem)\n",
    "5. 95 - Queens (Forest Hills)\n",
    "\n",
    "After matching location IDs with respective locations, it can be seen that most of the pick up locations are in Manhattan. This data shows how popular a pickup location in Manhattan is. Looking at the data, perhaps there is other data on attractions within NYC, or data showing general annual incomes within NYC, that could possible coincide with this taxi data, giving possible reasoning as to why so many of the taxi pickups are in Manhattan. "
   ]
  },
  {
   "cell_type": "code",
   "execution_count": 104,
   "metadata": {},
   "outputs": [
    {
     "name": "stdout",
     "output_type": "stream",
     "text": [
      "Axes(0.125,0.11;0.775x0.77)\n"
     ]
    },
    {
     "data": {
      "image/png": "[encoded data removed]",
      "text/plain": [
       "<Figure size 640x480 with 1 Axes>"
      ]
     },
     "metadata": {},
     "output_type": "display_data"
    }
   ],
   "source": [
    "#6.3\n",
    "#Display top five common drop-off locations as a bar chart\n",
    "print(tripdata_df['DOLocationID'].value_counts().head().plot(kind='bar'))"
   ]
  },
  {
   "cell_type": "markdown",
   "metadata": {},
   "source": [
    "The chart above represents the 5 most common drop off locations for taxis. The y-axis goes by every 500 trips while the x-axis represents the IDs of taxi locations. \n",
    "\n",
    "Similar to the pick up locations, the drop location ID 74 also seems to be the most common drop off location among all the drop off locations, however location ID 74 does not have as much of a lead compared to the previous bar chart. Once again the locations that correspond to each ID can be found:\n",
    "\n",
    "1. 74 - Manhattan (East Harlem North)\n",
    "2. 75 - Manhattan (East Harlem South)\n",
    "3. 41 - Manhattan (Central Harlem)\n",
    "4. 236 - Manhattan (Upper East Side North)\n",
    "5. 42 - Manhattan (Central Harlem North)\n",
    "\n",
    "After matching all these locations with their respective IDs together, it can be seen that the top five drop off locations are all in Manhattan. This data actually shows up pretty similarly with the pick up location as well, as 4 out of the top five locations are also in Manhattan. This shows how popular Manhattan is as a drop off location. What's interesting is how a big part of this data coincides with the previous graph in terms of pickup locations. This could possibly be because residents within the Manhattan area have a higher tendency to hail a cab to/from their residence. However, this is merely a conjecture that would need to be further explored with more data"
   ]
  },
  {
   "cell_type": "markdown",
   "metadata": {},
   "source": [
    "## 7. Data Analysis (10 pts)\n",
    "Write suitable code to answer the following:\n",
    "1. On average, how far do New Yorkers usually travel using these taxis?\n",
    "2. What is the most expensive and least expensive trip? \n",
    "3. What is the minimum, average and maximum **tip amount** for all trips that are 1) under 2 miles and 2) over 2 miles (i.e. >= 2)? \n",
    "\n",
    "Explain the results."
   ]
  },
  {
   "cell_type": "code",
   "execution_count": 43,
   "metadata": {},
   "outputs": [
    {
     "name": "stdout",
     "output_type": "stream",
     "text": [
      "2.7036608066184074\n"
     ]
    }
   ],
   "source": [
    "#7.1\n",
    "#Find average distance traveled using these taxis\n",
    "print(tripdata_df['trip_distance'].mean())"
   ]
  },
  {
   "cell_type": "markdown",
   "metadata": {},
   "source": [
    "According to the data definition table, the trip distance is reported in miles. This means that the average distance that New Yorkers usually travel using these taxis is about 2.70 miles. This data shows that the distance being traveled for each ride actually isn't really far. This information could be used to guess what reason people take these taxis for whether it be for simple conveniences or longer trips."
   ]
  },
  {
   "cell_type": "code",
   "execution_count": 45,
   "metadata": {},
   "outputs": [
    {
     "name": "stdout",
     "output_type": "stream",
     "text": [
      "441.0\n",
      "0.0\n"
     ]
    }
   ],
   "source": [
    "#7.2\n",
    "#Most expensive trip\n",
    "print(tripdata_df['total_amount'].max())\n",
    "#Least expensive trip\n",
    "print(tripdata_df['total_amount'].min())"
   ]
  },
  {
   "cell_type": "markdown",
   "metadata": {},
   "source": [
    "Looking at the data, the most expensive trip was \\$441 and the least expensive trip was \\$0. Although the full reasoning for each of these prices is unknown, it can be seen that the difference is quite big. This means while some people take taxi for extremely short distances, other people might take it for longer trips, costing them the \\$441."
   ]
  },
  {
   "cell_type": "code",
   "execution_count": 47,
   "metadata": {},
   "outputs": [
    {
     "name": "stdout",
     "output_type": "stream",
     "text": [
      "0.0\n",
      "1.3187485380541086\n",
      "80.0\n"
     ]
    }
   ],
   "source": [
    "#7.3.1\n",
    "#Less than 2 miles\n",
    "#Minimum\n",
    "print(tripdata_df['tip_amount'].loc[tripdata_df['trip_distance'] < 2].min())\n",
    "#Average\n",
    "print(tripdata_df['tip_amount'].loc[tripdata_df['trip_distance'] < 2].mean())\n",
    "#Maximum\n",
    "print(tripdata_df['tip_amount'].loc[tripdata_df['trip_distance'] < 2].max())"
   ]
  },
  {
   "cell_type": "markdown",
   "metadata": {},
   "source": [
    "Looking at the minimum, average, and maximum values for tips for distances under 2 miles, it can be see that the minimum amount was \\$0, the average was about \\$1.32 and the maximum was \\$80. Even though the largest and smallest tip have a difference of \\$80, from the average tip amount of \\$1.32, it can be seen that the \\$80 is an outlier and most tips are not nearly that large."
   ]
  },
  {
   "cell_type": "code",
   "execution_count": 49,
   "metadata": {},
   "outputs": [
    {
     "name": "stdout",
     "output_type": "stream",
     "text": [
      "0.0\n",
      "2.9925194158522537\n",
      "75.82\n"
     ]
    }
   ],
   "source": [
    "#7.3.2\n",
    "#Greater than 2 miles\n",
    "#Minimum\n",
    "print(tripdata_df['tip_amount'].loc[tripdata_df['trip_distance'] >= 2].min())\n",
    "#Average\n",
    "print(tripdata_df['tip_amount'].loc[tripdata_df['trip_distance'] >= 2].mean())\n",
    "#Maximum\n",
    "print(tripdata_df['tip_amount'].loc[tripdata_df['trip_distance'] >= 2].max())"
   ]
  },
  {
   "cell_type": "markdown",
   "metadata": {},
   "source": [
    "Looking at the minimum, average, and maximum values for tips for distances greater than or equal to 2 miles, it can be see that the minimum amount was \\$0, the average was about \\$2.99 and the maximum was \\$75.82. Like above, even though there is a large difference the minimum and maximum tip amount the average shows that the max tip amount can be considered an outlier of the dataset. \n",
    "\n",
    "Even though the maximum tip for distances greater than or equal to 2 miles is less than the maximum tip for trips of distances less than 2 miles, it doesn't show the tips as a whole, ie. the averages of the two groups of tips. When comparing average tip amount between trip distances less than 2 miles and trip distances greater than or equal to 2 miles, on average people paid \\$1.67 more dollars for greater distances. This shows that on average people tip more for longer trip distances. Taking prior knowledge into account these results make sense, as a longer trip would cost more money, making tips more prevalent/larger. Looking through this data shows the importance of taking the entire data set into account rather than just singular values."
   ]
  },
  {
   "cell_type": "markdown",
   "metadata": {},
   "source": [
    "## 8. Findings (3 pts)\n",
    "Based on the preliminary analysis, is this data a viable source that can be used by your team in the future to understand how New Yorkers use these taxis? Justify your response."
   ]
  },
  {
   "cell_type": "code",
   "execution_count": 102,
   "metadata": {},
   "outputs": [
    {
     "name": "stdout",
     "output_type": "stream",
     "text": [
      "<class 'pandas.core.frame.DataFrame'>\n",
      "Index: 59954 entries, 0 to 59986\n",
      "Data columns (total 19 columns):\n",
      " #   Column                 Non-Null Count  Dtype         \n",
      "---  ------                 --------------  -----         \n",
      " 0   VendorID               59954 non-null  category      \n",
      " 1   lpep_pickup_datetime   59954 non-null  datetime64[us]\n",
      " 2   lpep_dropoff_datetime  59954 non-null  datetime64[us]\n",
      " 3   store_and_fwd_flag     59954 non-null  category      \n",
      " 4   RatecodeID             59954 non-null  category      \n",
      " 5   PULocationID           59954 non-null  int64         \n",
      " 6   DOLocationID           59954 non-null  int64         \n",
      " 7   passenger_count        59954 non-null  int64         \n",
      " 8   trip_distance          59954 non-null  float64       \n",
      " 9   fare_amount            59954 non-null  float64       \n",
      " 10  extra                  59954 non-null  float64       \n",
      " 11  mta_tax                59954 non-null  float64       \n",
      " 12  tip_amount             59954 non-null  float64       \n",
      " 13  tolls_amount           59954 non-null  float64       \n",
      " 14  improvement_surcharge  59954 non-null  float64       \n",
      " 15  total_amount           59954 non-null  float64       \n",
      " 16  payment_type           59954 non-null  category      \n",
      " 17  trip_type              59954 non-null  category      \n",
      " 18  congestion_surcharge   59954 non-null  float64       \n",
      "dtypes: category(5), datetime64[us](2), float64(9), int64(3)\n",
      "memory usage: 7.1 MB\n",
      "None\n"
     ]
    },
    {
     "data": {
      "text/html": [
       "<div>\n",
       "<style scoped>\n",
       "    .dataframe tbody tr th:only-of-type {\n",
       "        vertical-align: middle;\n",
       "    }\n",
       "\n",
       "    .dataframe tbody tr th {\n",
       "        vertical-align: top;\n",
       "    }\n",
       "\n",
       "    .dataframe thead th {\n",
       "        text-align: right;\n",
       "    }\n",
       "</style>\n",
       "<table border=\"1\" class=\"dataframe\">\n",
       "  <thead>\n",
       "    <tr style=\"text-align: right;\">\n",
       "      <th></th>\n",
       "      <th>lpep_pickup_datetime</th>\n",
       "      <th>lpep_dropoff_datetime</th>\n",
       "      <th>PULocationID</th>\n",
       "      <th>DOLocationID</th>\n",
       "      <th>passenger_count</th>\n",
       "      <th>trip_distance</th>\n",
       "      <th>fare_amount</th>\n",
       "      <th>extra</th>\n",
       "      <th>mta_tax</th>\n",
       "      <th>tip_amount</th>\n",
       "      <th>tolls_amount</th>\n",
       "      <th>improvement_surcharge</th>\n",
       "      <th>total_amount</th>\n",
       "      <th>congestion_surcharge</th>\n",
       "    </tr>\n",
       "  </thead>\n",
       "  <tbody>\n",
       "    <tr>\n",
       "      <th>count</th>\n",
       "      <td>59954</td>\n",
       "      <td>59954</td>\n",
       "      <td>59954.000000</td>\n",
       "      <td>59954.000000</td>\n",
       "      <td>59954.000000</td>\n",
       "      <td>59954.000000</td>\n",
       "      <td>59954.000000</td>\n",
       "      <td>59954.000000</td>\n",
       "      <td>59954.000000</td>\n",
       "      <td>59954.000000</td>\n",
       "      <td>59954.000000</td>\n",
       "      <td>59954.000000</td>\n",
       "      <td>59954.000000</td>\n",
       "      <td>59954.000000</td>\n",
       "    </tr>\n",
       "    <tr>\n",
       "      <th>mean</th>\n",
       "      <td>2023-02-14 22:09:33.206692</td>\n",
       "      <td>2023-02-14 22:26:50.109083</td>\n",
       "      <td>98.995680</td>\n",
       "      <td>138.836241</td>\n",
       "      <td>1.294909</td>\n",
       "      <td>2.703661</td>\n",
       "      <td>16.312327</td>\n",
       "      <td>0.911053</td>\n",
       "      <td>0.619560</td>\n",
       "      <td>2.070039</td>\n",
       "      <td>0.149764</td>\n",
       "      <td>0.949873</td>\n",
       "      <td>21.533615</td>\n",
       "      <td>0.734117</td>\n",
       "    </tr>\n",
       "    <tr>\n",
       "      <th>min</th>\n",
       "      <td>2023-01-31 19:33:28</td>\n",
       "      <td>2023-01-31 19:59:57</td>\n",
       "      <td>1.000000</td>\n",
       "      <td>1.000000</td>\n",
       "      <td>0.000000</td>\n",
       "      <td>0.000000</td>\n",
       "      <td>0.000000</td>\n",
       "      <td>-2.500000</td>\n",
       "      <td>0.000000</td>\n",
       "      <td>0.000000</td>\n",
       "      <td>0.000000</td>\n",
       "      <td>-1.000000</td>\n",
       "      <td>0.000000</td>\n",
       "      <td>-2.750000</td>\n",
       "    </tr>\n",
       "    <tr>\n",
       "      <th>25%</th>\n",
       "      <td>2023-02-08 01:55:30.500000</td>\n",
       "      <td>2023-02-08 02:57:42.750000</td>\n",
       "      <td>74.000000</td>\n",
       "      <td>74.000000</td>\n",
       "      <td>1.000000</td>\n",
       "      <td>1.100000</td>\n",
       "      <td>9.300000</td>\n",
       "      <td>0.000000</td>\n",
       "      <td>0.500000</td>\n",
       "      <td>0.000000</td>\n",
       "      <td>0.000000</td>\n",
       "      <td>1.000000</td>\n",
       "      <td>12.850000</td>\n",
       "      <td>0.000000</td>\n",
       "    </tr>\n",
       "    <tr>\n",
       "      <th>50%</th>\n",
       "      <td>2023-02-14 20:10:19.500000</td>\n",
       "      <td>2023-02-14 20:22:00.500000</td>\n",
       "      <td>75.000000</td>\n",
       "      <td>138.000000</td>\n",
       "      <td>1.000000</td>\n",
       "      <td>1.800000</td>\n",
       "      <td>12.800000</td>\n",
       "      <td>0.000000</td>\n",
       "      <td>0.500000</td>\n",
       "      <td>1.500000</td>\n",
       "      <td>0.000000</td>\n",
       "      <td>1.000000</td>\n",
       "      <td>17.800000</td>\n",
       "      <td>0.000000</td>\n",
       "    </tr>\n",
       "    <tr>\n",
       "      <th>75%</th>\n",
       "      <td>2023-02-21 22:17:46.750000</td>\n",
       "      <td>2023-02-21 22:36:17.750000</td>\n",
       "      <td>129.000000</td>\n",
       "      <td>219.000000</td>\n",
       "      <td>1.000000</td>\n",
       "      <td>3.100000</td>\n",
       "      <td>19.100000</td>\n",
       "      <td>2.500000</td>\n",
       "      <td>0.500000</td>\n",
       "      <td>3.270000</td>\n",
       "      <td>0.000000</td>\n",
       "      <td>1.000000</td>\n",
       "      <td>25.750000</td>\n",
       "      <td>2.750000</td>\n",
       "    </tr>\n",
       "    <tr>\n",
       "      <th>max</th>\n",
       "      <td>2023-02-28 23:48:40</td>\n",
       "      <td>2023-02-28 23:57:28</td>\n",
       "      <td>265.000000</td>\n",
       "      <td>265.000000</td>\n",
       "      <td>9.000000</td>\n",
       "      <td>6470.330000</td>\n",
       "      <td>440.000000</td>\n",
       "      <td>7.500000</td>\n",
       "      <td>4.250000</td>\n",
       "      <td>80.000000</td>\n",
       "      <td>45.350000</td>\n",
       "      <td>1.000000</td>\n",
       "      <td>441.000000</td>\n",
       "      <td>2.750000</td>\n",
       "    </tr>\n",
       "    <tr>\n",
       "      <th>std</th>\n",
       "      <td>NaN</td>\n",
       "      <td>NaN</td>\n",
       "      <td>60.471234</td>\n",
       "      <td>76.507950</td>\n",
       "      <td>0.944640</td>\n",
       "      <td>26.555681</td>\n",
       "      <td>12.501390</td>\n",
       "      <td>1.306111</td>\n",
       "      <td>0.361186</td>\n",
       "      <td>2.816200</td>\n",
       "      <td>1.038345</td>\n",
       "      <td>0.205002</td>\n",
       "      <td>14.439918</td>\n",
       "      <td>1.216925</td>\n",
       "    </tr>\n",
       "  </tbody>\n",
       "</table>\n",
       "</div>"
      ],
      "text/plain": [
       "             lpep_pickup_datetime       lpep_dropoff_datetime  PULocationID  \\\n",
       "count                       59954                       59954  59954.000000   \n",
       "mean   2023-02-14 22:09:33.206692  2023-02-14 22:26:50.109083     98.995680   \n",
       "min           2023-01-31 19:33:28         2023-01-31 19:59:57      1.000000   \n",
       "25%    2023-02-08 01:55:30.500000  2023-02-08 02:57:42.750000     74.000000   \n",
       "50%    2023-02-14 20:10:19.500000  2023-02-14 20:22:00.500000     75.000000   \n",
       "75%    2023-02-21 22:17:46.750000  2023-02-21 22:36:17.750000    129.000000   \n",
       "max           2023-02-28 23:48:40         2023-02-28 23:57:28    265.000000   \n",
       "std                           NaN                         NaN     60.471234   \n",
       "\n",
       "       DOLocationID  passenger_count  trip_distance   fare_amount  \\\n",
       "count  59954.000000     59954.000000   59954.000000  59954.000000   \n",
       "mean     138.836241         1.294909       2.703661     16.312327   \n",
       "min        1.000000         0.000000       0.000000      0.000000   \n",
       "25%       74.000000         1.000000       1.100000      9.300000   \n",
       "50%      138.000000         1.000000       1.800000     12.800000   \n",
       "75%      219.000000         1.000000       3.100000     19.100000   \n",
       "max      265.000000         9.000000    6470.330000    440.000000   \n",
       "std       76.507950         0.944640      26.555681     12.501390   \n",
       "\n",
       "              extra       mta_tax    tip_amount  tolls_amount  \\\n",
       "count  59954.000000  59954.000000  59954.000000  59954.000000   \n",
       "mean       0.911053      0.619560      2.070039      0.149764   \n",
       "min       -2.500000      0.000000      0.000000      0.000000   \n",
       "25%        0.000000      0.500000      0.000000      0.000000   \n",
       "50%        0.000000      0.500000      1.500000      0.000000   \n",
       "75%        2.500000      0.500000      3.270000      0.000000   \n",
       "max        7.500000      4.250000     80.000000     45.350000   \n",
       "std        1.306111      0.361186      2.816200      1.038345   \n",
       "\n",
       "       improvement_surcharge  total_amount  congestion_surcharge  \n",
       "count           59954.000000  59954.000000          59954.000000  \n",
       "mean                0.949873     21.533615              0.734117  \n",
       "min                -1.000000      0.000000             -2.750000  \n",
       "25%                 1.000000     12.850000              0.000000  \n",
       "50%                 1.000000     17.800000              0.000000  \n",
       "75%                 1.000000     25.750000              2.750000  \n",
       "max                 1.000000    441.000000              2.750000  \n",
       "std                 0.205002     14.439918              1.216925  "
      ]
     },
     "execution_count": 102,
     "metadata": {},
     "output_type": "execute_result"
    }
   ],
   "source": [
    "#Print out the info once more to see how the data looks now\n",
    "print(tripdata_df.info())\n",
    "tripdata_df.describe()"
   ]
  },
  {
   "cell_type": "markdown",
   "metadata": {},
   "source": [
    "The NYC taxi trip data can definitely be used in certain aspects in the future to understand how New Yorkers used these taxis. For instance, looking at data such as the pickup/drop off locations can help identify areas with high demands for taxis. As seen in the chart top five pickup/dropoff location charts, some of the most popular pickup/dropoff locations are located in Manhattan. This data could be coupled with daily timing of the most popular pickup/dropoff times to see which areas could use more taxi drivers during what time. \n",
    "\n",
    "That being said, maybe this data isn't the most reliable to go off of. During the preliminary data cleaning, there were around 4,821 with 4  or more null/unknown values and even more data that was considered invalid, whether it be it was out of the proper date range or it was out of the proper currency range. There was also straight up an entire column with unknown values that had to be dropped (ehail_fee). In addition to the unknown data and the obviously incorrect data, it is unknown whether or not the rest of the data was correctly inputted, or if there maybe some other chunk of data that is invalid. Additionally, there could be biases in terms of where the taxi drivers themselves tend to go to. Maybe they have a tendency to stay around the Manhattan area rather than other areas, which is what is causing the high numbers of pickup/dropoff locations within the Manhattan area. \n",
    "\n",
    "All in all, while the trip data can be used for some future references, it should also be taken with a grain of salt as there needs to be better ways to collect all of this data that does not cause so many rows of invalid data and to have more safeguards in terms of inputting the data correctly in general."
   ]
  },
  {
   "cell_type": "markdown",
   "metadata": {},
   "source": [
    "Note: I don't know if you need to download my file to grade it, but if any currency values that I typed out in a markdown cell look weird once downloaded onto a jupyter notebook, it's because I needed to reformat it so that it looked correct on gradescope. (I don't know if you can see my previous submissions but if you can, look through those if you are curious as to what I am talking about)"
   ]
  }
 ],
 "metadata": {
  "kernelspec": {
   "display_name": "Python 3 (ipykernel)",
   "language": "python",
   "name": "python3"
  },
  "language_info": {
   "codemirror_mode": {
    "name": "ipython",
    "version": 3
   },
   "file_extension": ".py",
   "mimetype": "text/x-python",
   "name": "python",
   "nbconvert_exporter": "python",
   "pygments_lexer": "ipython3",
   "version": "3.11.7"
  }
 },
 "nbformat": 4,
 "nbformat_minor": 4
}
